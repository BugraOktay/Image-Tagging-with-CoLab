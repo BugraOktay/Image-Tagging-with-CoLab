{
 "cells": [
  {
   "cell_type": "code",
   "execution_count": null,
   "metadata": {
    "colab": {
     "base_uri": "https://localhost:8080/"
    },
    "executionInfo": {
     "elapsed": 16866,
     "status": "ok",
     "timestamp": 1742470252712,
     "user": {
      "displayName": "Bugra Oktay Ates",
      "userId": "17155151565520395054"
     },
     "user_tz": -180
    },
    "id": "0Sj7rUTNUYEV",
    "outputId": "7ea71f91-c1e2-4fa2-ee40-4d1e285a68af"
   },
   "outputs": [],
   "source": [
    "from google.colab import drive\n",
    "drive.mount('/content/drive')"
   ]
  },
  {
   "cell_type": "code",
   "execution_count": null,
   "metadata": {
    "id": "SrvggQ7lUb7Y"
   },
   "outputs": [],
   "source": [
    "unlocked_path = '/content/drive/MyDrive/Colab Notebooks/DataSet/kilitsiz'\n",
    "locked_path = '/content/drive/MyDrive/Colab Notebooks/DataSet/kilitli'\n",
    "\n",
    "import os\n",
    "unlocked_list = os.listdir(unlocked_path)\n",
    "loced_list = os.listdir(locked_path)\n",
    "\n",
    "unlocked = [os.path.join(unlocked_path, img_name) for img_name in unlocked_list]\n",
    "locked = [os.path.join(locked_path, img_name) for img_name in loced_list]"
   ]
  },
  {
   "cell_type": "code",
   "execution_count": null,
   "metadata": {
    "id": "y9oUYeqyWN4x"
   },
   "outputs": [],
   "source": [
    "data = locked + unlocked\n",
    "labels = [0] * len(locked) + [1] * len(unlocked)"
   ]
  },
  {
   "cell_type": "code",
   "execution_count": null,
   "metadata": {
    "id": "oN7MLIM9YRy6"
   },
   "outputs": [],
   "source": [
    "import tensorflow as tf\n",
    "import numpy as np\n",
    "import matplotlib.pyplot as plt\n",
    "import os\n",
    "from sklearn.model_selection import train_test_split"
   ]
  },
  {
   "cell_type": "code",
   "execution_count": null,
   "metadata": {
    "id": "cBBlumoBYhq4"
   },
   "outputs": [],
   "source": [
    "train_files, test_files, train_labels, test_labels = train_test_split(data, labels, test_size=0.2, random_state=42)"
   ]
  },
  {
   "cell_type": "code",
   "execution_count": null,
   "metadata": {
    "collapsed": true,
    "id": "07TijItXYmua"
   },
   "outputs": [],
   "source": [
    "IMG_SIZE = (224, 224) \n",
    "\n",
    "def load_and_preprocess_image(image_path):\n",
    "    img = tf.keras.preprocessing.image.load_img(image_path, target_size=IMG_SIZE)\n",
    "    img = tf.keras.preprocessing.image.img_to_array(img) / 255.0  \n",
    "    return img\n",
    "\n",
    "X_train = np.array([load_and_preprocess_image(img) for img in train_files])\n",
    "X_test = np.array([load_and_preprocess_image(img) for img in test_files])\n",
    "y_train = np.array(train_labels)\n",
    "y_test = np.array(test_labels)\n"
   ]
  },
  {
   "cell_type": "code",
   "execution_count": null,
   "metadata": {
    "colab": {
     "base_uri": "https://localhost:8080/"
    },
    "collapsed": true,
    "executionInfo": {
     "elapsed": 1544,
     "status": "ok",
     "timestamp": 1742472236349,
     "user": {
      "displayName": "Bugra Oktay Ates",
      "userId": "17155151565520395054"
     },
     "user_tz": -180
    },
    "id": "siuzaRhNYrMG",
    "outputId": "9c1aa672-800f-40f3-9ca4-e6b0903d782c"
   },
   "outputs": [],
   "source": [
    "base_model = tf.keras.applications.MobileNetV2(input_shape=(224, 224, 3), include_top=False, weights=\"imagenet\")\n",
    "base_model.trainable = False  \n",
    "\n",
    "model = tf.keras.Sequential([\n",
    "    base_model,\n",
    "    tf.keras.layers.GlobalAveragePooling2D(),\n",
    "    tf.keras.layers.Dense(128, activation=\"relu\"),\n",
    "    tf.keras.layers.Dense(1, activation=\"sigmoid\") \n",
    "])\n",
    "\n",
    "model.compile(optimizer=\"adam\", loss=\"binary_crossentropy\", metrics=[\"accuracy\"])\n"
   ]
  },
  {
   "cell_type": "code",
   "execution_count": null,
   "metadata": {
    "colab": {
     "base_uri": "https://localhost:8080/"
    },
    "executionInfo": {
     "elapsed": 880855,
     "status": "ok",
     "timestamp": 1742473203739,
     "user": {
      "displayName": "Bugra Oktay Ates",
      "userId": "17155151565520395054"
     },
     "user_tz": -180
    },
    "id": "DCRG10HBYsUb",
    "outputId": "5f527367-4a04-49bf-f8da-09fb35261cc4"
   },
   "outputs": [],
   "source": [
    "history = model.fit(X_train, y_train, validation_data=(X_test, y_test), epochs=10, batch_size=8)"
   ]
  },
  {
   "cell_type": "code",
   "execution_count": null,
   "metadata": {
    "colab": {
     "base_uri": "https://localhost:8080/"
    },
    "executionInfo": {
     "elapsed": 22856,
     "status": "ok",
     "timestamp": 1742473333647,
     "user": {
      "displayName": "Bugra Oktay Ates",
      "userId": "17155151565520395054"
     },
     "user_tz": -180
    },
    "id": "6IUfkYrXYvug",
    "outputId": "e7bee9c6-1434-4842-8e4d-810d5d7d8201"
   },
   "outputs": [],
   "source": [
    "loss, accuracy = model.evaluate(X_test, y_test)\n",
    "print(f\"Test Accuracy: {accuracy:.2f}\")"
   ]
  }
 ],
 "metadata": {
  "colab": {
   "authorship_tag": "ABX9TyOGGM7nYMNz3Nibhditx/5I",
   "provenance": []
  },
  "kernelspec": {
   "display_name": "Python 3",
   "name": "python3"
  },
  "language_info": {
   "name": "python"
  }
 },
 "nbformat": 4,
 "nbformat_minor": 0
}
