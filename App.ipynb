{
 "cells": [
  {
   "cell_type": "code",
   "execution_count": null,
   "metadata": {
    "colab": {
     "base_uri": "https://localhost:8080/"
    },
    "executionInfo": {
     "elapsed": 25300,
     "status": "ok",
     "timestamp": 1742458355450,
     "user": {
      "displayName": "Bugra Oktay Ates",
      "userId": "17155151565520395054"
     },
     "user_tz": -180
    },
    "id": "KgQgSk45lKLs",
    "outputId": "3c776e79-1df4-4499-c14d-cbe7d509517c"
   },
   "outputs": [],
   "source": [
    "from google.colab import drive\n",
    "drive.mount('/content/drive') \n"
   ]
  },
  {
   "cell_type": "code",
   "execution_count": null,
   "metadata": {
    "colab": {
     "base_uri": "https://localhost:8080/"
    },
    "executionInfo": {
     "elapsed": 39,
     "status": "ok",
     "timestamp": 1742464088667,
     "user": {
      "displayName": "Bugra Oktay Ates",
      "userId": "17155151565520395054"
     },
     "user_tz": -180
    },
    "id": "epbt57Lb8Qfg",
    "outputId": "625e2565-2dec-4661-a3c1-b4eaeead0222"
   },
   "outputs": [],
   "source": [
    "shared_files_path1 = '/content/drive/MyDrive/Colab Notebooks/DataSet/kilitli'\n",
    "shared_files_path2 = '/content/drive/MyDrive/Colab Notebooks/DataSet/kilitsiz'\n",
    "\n",
    "import os\n",
    "imgs1 = os.listdir(shared_files_path1)\n",
    "imgs2 = os.listdir(shared_files_path2)\n",
    "imgs = imgs1 + imgs2\n",
    "print(len(imgs1))\n",
    "print(len(imgs2))"
   ]
  },
  {
   "cell_type": "code",
   "execution_count": null,
   "metadata": {
    "colab": {
     "base_uri": "https://localhost:8080/",
     "height": 321
    },
    "executionInfo": {
     "elapsed": 42,
     "status": "error",
     "timestamp": 1742462930902,
     "user": {
      "displayName": "Bugra Oktay Ates",
      "userId": "17155151565520395054"
     },
     "user_tz": -180
    },
    "id": "QnjyKCAVZR6N",
    "outputId": "9cdd6d02-0938-4935-8f77-ab027f5bd2df"
   },
   "outputs": [],
   "source": [
    "import os\n",
    "import shutil\n",
    "import matplotlib.pyplot as plt\n",
    "import ipywidgets as widgets\n",
    "from IPython.display import display, clear_output\n",
    "from PIL import Image\n",
    "\n",
    "image_folder = '/content/drive/MyDrive/Colab Notebooks/skuter verileri 1'\n",
    "\n",
    "\n",
    "like_folder = \"/content/drive/MyDrive/Colab Notebooks/DataSet/kilitli\"\n",
    "dislike_folder = \"/content/drive/MyDrive/Colab Notebooks/DataSet/kilitsiz\"\n",
    "\n",
    "os.makedirs(like_folder, exist_ok=True)\n",
    "os.makedirs(dislike_folder, exist_ok=True)\n",
    "\n",
    "\n",
    "image_paths = [os.path.join(image_folder, f) for f in os.listdir(image_folder) if f.endswith(\".jpg\")]\n",
    "\n",
    "\n",
    "current_index = 0\n",
    "\n",
    "\n",
    "def show_image():\n",
    "    global current_index\n",
    "    clear_output(wait=True) \n",
    "\n",
    "    if current_index < len(image_paths):\n",
    "        img = Image.open(image_paths[current_index]).resize((500, 500))\n",
    "        plt.imshow(img)\n",
    "        plt.axis(\"off\")\n",
    "        plt.show()\n",
    "\n",
    "        \n",
    "        update_counters()\n",
    "\n",
    "       \n",
    "        button_box = widgets.HBox([like_button, dislike_button])\n",
    "        display(button_box)\n",
    "    else:\n",
    "        print(\"✅ Tüm resimler değerlendirildi!\")\n",
    "\n",
    "\n",
    "def update_counters():\n",
    "    remaining = len(image_paths) - current_index\n",
    "    like_count = len(os.listdir(like_folder))\n",
    "    dislike_count = len(os.listdir(dislike_folder))\n",
    "\n",
    "    print(f\"✅ Kilitli: {like_count} | ❌ Kilitsiz: {dislike_count} | ⏳ Kalan: {remaining}\")\n",
    "\n",
    "\n",
    "def like_image(b):\n",
    "    global current_index\n",
    "    if current_index < len(image_paths):\n",
    "        shutil.move(image_paths[current_index], os.path.join(like_folder, os.path.basename(image_paths[current_index])))\n",
    "        current_index += 1\n",
    "        show_image()\n",
    "\n",
    "\n",
    "def dislike_image(b):\n",
    "    global current_index\n",
    "    if current_index < len(image_paths):\n",
    "        shutil.move(image_paths[current_index], os.path.join(dislike_folder, os.path.basename(image_paths[current_index])))\n",
    "        current_index += 1\n",
    "        show_image()\n",
    "\n",
    "\n",
    "like_button = widgets.Button(description=\"Kilitli 👍\", button_style='success')\n",
    "dislike_button = widgets.Button(description=\"Kilitsiz 👎\", button_style='danger')\n",
    "\n",
    "\n",
    "like_button.on_click(like_image)\n",
    "dislike_button.on_click(dislike_image)\n",
    "\n",
    "\n",
    "show_image()\n"
   ]
  }
 ],
 "metadata": {
  "colab": {
   "provenance": []
  },
  "kernelspec": {
   "display_name": "Python 3",
   "name": "python3"
  },
  "language_info": {
   "name": "python"
  }
 },
 "nbformat": 4,
 "nbformat_minor": 0
}
